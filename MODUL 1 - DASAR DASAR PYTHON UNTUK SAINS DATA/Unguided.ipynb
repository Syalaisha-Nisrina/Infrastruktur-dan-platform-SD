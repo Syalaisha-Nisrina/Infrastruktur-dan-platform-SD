{
  "nbformat": 4,
  "nbformat_minor": 0,
  "metadata": {
    "colab": {
      "provenance": []
    },
    "kernelspec": {
      "name": "python3",
      "display_name": "Python 3"
    },
    "language_info": {
      "name": "python"
    }
  },
  "cells": [
    {
      "cell_type": "markdown",
      "source": [
        "## Nomor 1"
      ],
      "metadata": {
        "id": "ZztUTk0Z1cYP"
      }
    },
    {
      "cell_type": "code",
      "execution_count": null,
      "metadata": {
        "colab": {
          "base_uri": "https://localhost:8080/"
        },
        "id": "ZJ6WsM7VTkA5",
        "outputId": "f33a6c04-d6b5-4eac-b6a2-40678a18da0e"
      },
      "outputs": [
        {
          "output_type": "stream",
          "name": "stdout",
          "text": [
            "1\n",
            "2 3 \n",
            "5 7 11 \n",
            "13 17 19 23 \n",
            "29 31 37 41 43 \n"
          ]
        }
      ],
      "source": [
        "def is_prime(num):\n",
        "    if num <= 1:\n",
        "        return False\n",
        "    for i in range(2, int(num ** 0.5) + 1):\n",
        "        if num % i == 0:\n",
        "            return False\n",
        "    return True\n",
        "\n",
        "def generate_pattern(rows):\n",
        "    prime_list = []\n",
        "    num = 2  # Mulai dengan angka prima pertama\n",
        "\n",
        "    # Cetak angka pertama sebagai 1\n",
        "    print(1)\n",
        "\n",
        "    for i in range(2, rows + 1):  # Mulai dari baris kedua\n",
        "        count = 0  # Menghitung jumlah elemen dalam baris\n",
        "        while count < i:\n",
        "            if is_prime(num):\n",
        "                prime_list.append(num)\n",
        "                print(num, end=' ')\n",
        "                count += 1\n",
        "            num += 1\n",
        "        print()  # Pindah ke baris berikutnya\n",
        "\n",
        "# Menentukan jumlah baris\n",
        "rows = 5\n",
        "generate_pattern(rows)"
      ]
    },
    {
      "cell_type": "markdown",
      "source": [
        "## Nomor **2**\n"
      ],
      "metadata": {
        "id": "OvmwIi9E1hUl"
      }
    },
    {
      "cell_type": "code",
      "source": [
        "def ambil_ganjil_dan_urutkan(list1, list2):\n",
        "    # Ambil elemen dengan indeks ganjil dari kedua list\n",
        "    ganjil_list1 = [list1[i] for i in range(1, len(list1), 2)]\n",
        "    ganjil_list2 = [list2[i] for i in range(1, len(list2), 2)]\n",
        "\n",
        "    # Gabungkan elemen dari kedua list\n",
        "    hasil = ganjil_list1 + ganjil_list2\n",
        "\n",
        "    # Urutkan secara menurun\n",
        "    hasil.sort(reverse=True)\n",
        "\n",
        "    return hasil\n",
        "\n",
        "list1 = list(map(int, input(\"Masukkan angka-angka untuk list pertama, pisahkan dengan spasi: \").split()))\n",
        "list2 = list(map(int, input(\"Masukkan angka-angka untuk list kedua, pisahkan dengan spasi: \").split()))\n",
        "\n",
        "# Memanggil fungsi dan menampilkan hasil\n",
        "result = ambil_ganjil_dan_urutkan(list1, list2)\n",
        "print(\"Hasil list baru dengan elemen indeks ganjil yang diurutkan secara menurun:\", result)"
      ],
      "metadata": {
        "id": "smaxpRQxV-Ed",
        "colab": {
          "base_uri": "https://localhost:8080/"
        },
        "outputId": "e5f6d7de-9d76-4d3d-ee99-2c4a6e1fe8fe"
      },
      "execution_count": 1,
      "outputs": [
        {
          "output_type": "stream",
          "name": "stdout",
          "text": [
            "Masukkan angka-angka untuk list pertama, pisahkan dengan spasi: 12 22 24 31 11 71 81 66 \n",
            "Masukkan angka-angka untuk list kedua, pisahkan dengan spasi: 4 2 5 8 9 3 12 19\n",
            "Hasil list baru dengan elemen indeks ganjil yang diurutkan secara menurun: [71, 66, 31, 22, 19, 8, 3, 2]\n"
          ]
        }
      ]
    },
    {
      "cell_type": "markdown",
      "source": [
        "## Nomor 3"
      ],
      "metadata": {
        "id": "2z2BUaiK1mdu"
      }
    },
    {
      "cell_type": "code",
      "source": [
        "PIN_ATM = \"300604\"\n",
        "saldo = 1000000000\n",
        "\n",
        "def verifikasi_pin():\n",
        "    percobaan = 0\n",
        "    while percobaan < 3:\n",
        "        pin_input = input(\"Masukkan PIN: \")\n",
        "        if pin_input == PIN_ATM:\n",
        "            return True\n",
        "        else:\n",
        "            percobaan += 1\n",
        "            print(f\"PIN salah. Anda memiliki {3 - percobaan} percobaan lagi.\")\n",
        "    return False\n",
        "\n",
        "def penarikan_saldo(saldo):\n",
        "    while True:\n",
        "        try:\n",
        "            jumlah_tarik = int(input(\"Masukkan jumlah yang ingin ditarik: \"))\n",
        "            if jumlah_tarik > saldo:\n",
        "                print(\"Saldo tidak mencukupi. Transaksi tidak bisa diproses.\")\n",
        "            else:\n",
        "                saldo -= jumlah_tarik\n",
        "                print(f\"Penarikan berhasil. Sisa saldo sekarang: Rp{saldo}\")\n",
        "                break\n",
        "        except ValueError:\n",
        "            print(\"Jumlah yang Anda masukkan tidak valid. Silakan coba lagi.\")\n",
        "    return saldo\n",
        "\n",
        "def atm_program():\n",
        "    print(\"Selamat datang di layanan ATM BANK ANATAYA\")\n",
        "    if verifikasi_pin():\n",
        "        print(\"PIN benar. Silakan melanjutkan transaksi.\")\n",
        "        saldo_akhir = penarikan_saldo(saldo)\n",
        "        print(f\"Transaksi selesai. Saldo akhir adalah: Rp{saldo_akhir}\")\n",
        "    else:\n",
        "        print(\"Anda telah salah memasukkan PIN 3 kali. Akses ditolak.\")\n",
        "\n",
        "atm_program()\n",
        "\n"
      ],
      "metadata": {
        "colab": {
          "base_uri": "https://localhost:8080/"
        },
        "id": "fzzi0x-pcdk1",
        "outputId": "7ee32159-5013-48d7-84ed-7d721f833998"
      },
      "execution_count": 2,
      "outputs": [
        {
          "output_type": "stream",
          "name": "stdout",
          "text": [
            "Selamat datang di layanan ATM BANK ANATAYA\n",
            "Masukkan PIN: 300604\n",
            "PIN benar. Silakan melanjutkan transaksi.\n",
            "Masukkan jumlah yang ingin ditarik: 500.000\n",
            "Jumlah yang Anda masukkan tidak valid. Silakan coba lagi.\n",
            "Masukkan jumlah yang ingin ditarik: 500000\n",
            "Penarikan berhasil. Sisa saldo sekarang: Rp999500000\n",
            "Transaksi selesai. Saldo akhir adalah: Rp999500000\n"
          ]
        }
      ]
    },
    {
      "cell_type": "markdown",
      "source": [
        "## Nomor 4"
      ],
      "metadata": {
        "id": "WxkPm7vm1xey"
      }
    },
    {
      "cell_type": "code",
      "source": [
        "import csv\n",
        "\n",
        "def baca_file_csv(nama_file):\n",
        "    data_mahasiswa = {}\n",
        "    with open(nama_file, mode='r') as file:\n",
        "        csv_reader = csv.reader(file)\n",
        "        header = next(csv_reader)\n",
        "        for row in csv_reader:\n",
        "            nama = row[0]\n",
        "            nilai = list(map(float, row[1:]))\n",
        "            data_mahasiswa[nama] = nilai\n",
        "    return data_mahasiswa\n",
        "\n",
        "def hitung_rata_rata(data_mahasiswa):\n",
        "    rata_rata = {}\n",
        "    for nama, nilais in data_mahasiswa.items():\n",
        "        rata_rata[nama] = sum(nilais) / len(nilais)\n",
        "    return rata_rata\n",
        "\n",
        "def tampilkan_nilai_ekstrem(rata_rata):\n",
        "    mahasiswa_tertinggi = max(rata_rata, key=rata_rata.get)\n",
        "    mahasiswa_terendah = min(rata_rata, key=rata_rata.get)\n",
        "\n",
        "    print(f'Mahasiswa dengan nilai tertinggi: {mahasiswa_tertinggi} dengan rata-rata {rata_rata[mahasiswa_tertinggi]:.2f}')\n",
        "    print(f'Mahasiswa dengan nilai terendah: {mahasiswa_terendah} dengan rata-rata {rata_rata[mahasiswa_terendah]:.2f}')\n",
        "\n",
        "def main():\n",
        "    nama_file = 'siswa_nilai (1).csv'\n",
        "    data_mahasiswa = baca_file_csv(nama_file)\n",
        "    rata_rata = hitung_rata_rata(data_mahasiswa)\n",
        "    tampilkan_nilai_ekstrem(rata_rata)\n",
        "\n",
        "if __name__ == \"__main__\":\n",
        "  main()"
      ],
      "metadata": {
        "colab": {
          "base_uri": "https://localhost:8080/"
        },
        "id": "W6peCxjYPRJ5",
        "outputId": "ec1e9f29-e7e0-4b18-ec6b-9158c0b7fb75"
      },
      "execution_count": 2,
      "outputs": [
        {
          "output_type": "stream",
          "name": "stdout",
          "text": [
            "Mahasiswa dengan nilai tertinggi: Siswa_7 dengan rata-rata 100.00\n",
            "Mahasiswa dengan nilai terendah: Siswa_5 dengan rata-rata 50.00\n"
          ]
        }
      ]
    },
    {
      "cell_type": "markdown",
      "source": [
        "## Nomor 5"
      ],
      "metadata": {
        "id": "b64eqGFi2mjs"
      }
    },
    {
      "cell_type": "code",
      "source": [
        "import random\n",
        "\n",
        "def tebak_angka():\n",
        "    angka_rahasia = random.randint(1, 100)\n",
        "    percobaan = 5\n",
        "\n",
        "    print(\"Selamat datang di permainan tebak angka!\")\n",
        "    print(\"Saya telah memilih angka antara 1 dan 100.\")\n",
        "    print(f\"Anda memiliki {percobaan} kesempatan untuk menebaknya.\")\n",
        "\n",
        "    for i in range(percobaan):\n",
        "        tebakan = int(input(f\"Tebakan ke-{i + 1}: \"))\n",
        "\n",
        "        if tebakan < angka_rahasia:\n",
        "            print(\"Tebakan Anda terlalu rendah.\")\n",
        "        elif tebakan > angka_rahasia:\n",
        "            print(\"Tebakan Anda terlalu tinggi.\")\n",
        "        else:\n",
        "            print(\"Selamat! Anda berhasil menebak angka yang tepat!\")\n",
        "            break\n",
        "    else:\n",
        "        print(f\"Sayang sekali, Anda kehabisan kesempatan. Angka yang benar adalah {angka_rahasia}.\")\n",
        "\n",
        "if __name__ == \"__main__\":\n",
        "    tebak_angka()"
      ],
      "metadata": {
        "colab": {
          "base_uri": "https://localhost:8080/"
        },
        "id": "bCuEFrsLgFNX",
        "outputId": "a3e0499a-8807-4e41-f8c7-5c0828eb8874"
      },
      "execution_count": null,
      "outputs": [
        {
          "output_type": "stream",
          "name": "stdout",
          "text": [
            "Selamat datang di permainan tebak angka!\n",
            "Saya telah memilih angka antara 1 dan 100.\n",
            "Anda memiliki 5 kesempatan untuk menebaknya.\n",
            "Tebakan ke-1: 2\n",
            "Tebakan Anda terlalu rendah.\n",
            "Tebakan ke-2: 60\n",
            "Tebakan Anda terlalu tinggi.\n",
            "Tebakan ke-3: 55\n",
            "Tebakan Anda terlalu tinggi.\n",
            "Tebakan ke-4: 40\n",
            "Tebakan Anda terlalu tinggi.\n",
            "Tebakan ke-5: 30\n",
            "Tebakan Anda terlalu rendah.\n",
            "Sayang sekali, Anda kehabisan kesempatan. Angka yang benar adalah 36.\n"
          ]
        }
      ]
    },
    {
      "cell_type": "markdown",
      "source": [
        "## Nomor 6"
      ],
      "metadata": {
        "id": "W1uScsrZ3M7P"
      }
    },
    {
      "cell_type": "code",
      "source": [
        "# Fungsi rekursif untuk menghitung faktorial\n",
        "def faktorial(n):\n",
        "    if n == 0 or n == 1:\n",
        "        return 1\n",
        "    else:\n",
        "        return n * faktorial(n - 1)\n",
        "\n",
        "# Fungsi untuk menghasilkan urutan faktorial dari 1 hingga n\n",
        "def urutan_faktorial(n):\n",
        "    hasil = []\n",
        "    for i in range(n + 1):\n",
        "        hasil.append(faktorial(i))\n",
        "    return hasil\n",
        "\n",
        "# Contoh penggunaan\n",
        "n = 4\n",
        "output = urutan_faktorial(n)\n",
        "print(output)\n"
      ],
      "metadata": {
        "id": "ezHAZGQTg03G",
        "colab": {
          "base_uri": "https://localhost:8080/"
        },
        "outputId": "a33a8eb6-0a39-43a7-eac7-71b995c01ff7"
      },
      "execution_count": 3,
      "outputs": [
        {
          "output_type": "stream",
          "name": "stdout",
          "text": [
            "[1, 1, 2, 6, 24]\n"
          ]
        }
      ]
    },
    {
      "cell_type": "markdown",
      "source": [
        "## Nomor 7"
      ],
      "metadata": {
        "id": "DT-tDjp-31mc"
      }
    },
    {
      "cell_type": "code",
      "source": [
        "def min_coin_change(coins, amounts, total, simpan=None):\n",
        "    if simpan is None:\n",
        "        simpan = {}\n",
        "\n",
        "    # Jika total 0, tidak perlu koin\n",
        "    if total == 0:\n",
        "        return 0\n",
        "\n",
        "    # Jika total negatif, ini tidak valid\n",
        "    if total < 0:\n",
        "        return float('inf')\n",
        "\n",
        "    # Jika solusi untuk total ini sudah dihitung, gunakan dari simpan\n",
        "    if total in simpan:\n",
        "        return simpan[total]\n",
        "\n",
        "    # Inisialisasi nilai minimum dengan tak terhingga\n",
        "    min_coins = float('inf')\n",
        "\n",
        "    # Cek setiap koin dan jumlah koin yang tersedia\n",
        "    for i in range(len(coins)):\n",
        "        if amounts[i] > 0:  # Hanya jika koin masih tersedia\n",
        "            # Coba ambil satu koin dari tipe ini\n",
        "            amounts[i] -= 1\n",
        "            # Hitung solusi untuk sisa total\n",
        "            num_coins = 1 + min_coin_change(coins, amounts, total - coins[i], simpan)\n",
        "            # Kembalikan jumlah koin yang diambil\n",
        "            amounts[i] += 1\n",
        "\n",
        "            # Simpan solusi minimum\n",
        "            if num_coins < min_coins:\n",
        "                min_coins = num_coins\n",
        "\n",
        "    simpan[total] = min_coins\n",
        "    return min_coins\n",
        "\n",
        "# Fungsi utama untuk memasukkan koin dan jumlah\n",
        "def solve_min_coin_change():\n",
        "   coins = list(map(int, input(\"Masukkan nilai koin yang tersedia (pisahkan dengan spasi): \").split()))\n",
        "   amounts = list(map(int, input(f\"Masukkan jumlah koin untuk setiap nilai ({coins}): \").split()))\n",
        "   total = int(input(\"Masukkan total uang yang ingin dicapai: \"))\n",
        "   result = min_coin_change(coins, amounts, total)\n",
        "\n",
        "   if result == float('inf'):\n",
        "        print(\"Tidak mungkin mencapai jumlah tersebut dengan koin yang tersedia.\")\n",
        "   else:\n",
        "        print(f\"Minimum koin yang diperlukan: {result}\")\n",
        "\n",
        "solve_min_coin_change()\n"
      ],
      "metadata": {
        "colab": {
          "base_uri": "https://localhost:8080/"
        },
        "id": "vmk_eghcVdre",
        "outputId": "899d7ddd-413e-425b-808d-826a766fc788"
      },
      "execution_count": 5,
      "outputs": [
        {
          "output_type": "stream",
          "name": "stdout",
          "text": [
            "Masukkan nilai koin yang tersedia (pisahkan dengan spasi): 1 4 7 9 10 12\n",
            "Masukkan jumlah koin untuk setiap nilai ([1, 4, 7, 9, 10, 12]): 2 5 8 10 11 14\n",
            "Masukkan total uang yang ingin dicapai: 100\n",
            "Minimum koin yang diperlukan: 9\n"
          ]
        }
      ]
    },
    {
      "cell_type": "markdown",
      "source": [
        "## Nomor 8"
      ],
      "metadata": {
        "id": "2o2mfY9H54Eg"
      }
    },
    {
      "cell_type": "code",
      "source": [
        "def balik_kata(kalimat):\n",
        "    kata_kata = kalimat.split()\n",
        "    kata_kata_terbalik = [kata[::-1] for kata in kata_kata]\n",
        "    return kata_kata_terbalik\n",
        "\n",
        "kalimat = input(\"Masukkan sebuah kalimat: \")\n",
        "hasil = balik_kata(kalimat)\n",
        "print(hasil)\n"
      ],
      "metadata": {
        "colab": {
          "base_uri": "https://localhost:8080/"
        },
        "id": "CmXWPNzk57zO",
        "outputId": "a6ac6b4e-07ed-4d6e-c145-f2d7bb8cafd6"
      },
      "execution_count": 6,
      "outputs": [
        {
          "output_type": "stream",
          "name": "stdout",
          "text": [
            "Masukkan sebuah kalimat: Saya suka Python\n",
            "['ayaS', 'akus', 'nohtyP']\n"
          ]
        }
      ]
    },
    {
      "cell_type": "markdown",
      "source": [
        "## Nomor 9"
      ],
      "metadata": {
        "id": "oCGcNwxY59Wu"
      }
    },
    {
      "cell_type": "code",
      "source": [
        "from datetime import datetime\n",
        "\n",
        "class Buku:\n",
        "    def __init__(self, judul, penulis, tahun_terbit):\n",
        "        self.judul = judul\n",
        "        self.penulis = penulis\n",
        "        self.tahun_terbit = tahun_terbit\n",
        "\n",
        "    # Menampilkan informasi buku\n",
        "    def tampilkan_informasi(self):\n",
        "        print(f\"Judul: {self.judul}\")\n",
        "        print(f\"Penulis: {self.penulis}\")\n",
        "        print(f\"Tahun Terbit: {self.tahun_terbit}\")\n",
        "\n",
        "    # Menghitung usia buku\n",
        "    def hitung_usia(self):\n",
        "        tahun_sekarang = datetime.now().year\n",
        "        usia_buku = tahun_sekarang - self.tahun_terbit\n",
        "        return usia_buku\n",
        "\n",
        "# Membuat 3 objek dari class Buku\n",
        "buku1 = Buku(\"Kalkulus\", \"John Doe\", 2020)\n",
        "buku2 = Buku(\"Kecerdasan Buatan\", \"Jane Smith\", 2018)\n",
        "buku3 = Buku(\"Algoritma dan Struktur Data\", \"Alice Johnson\", 2020)\n",
        "\n",
        "# Menampilkan informasi dan usia masing-masing buku\n",
        "for buku in [buku1, buku2, buku3]:\n",
        "    buku.tampilkan_informasi()\n",
        "    print(f\"Usia Buku: {buku.hitung_usia()} tahun\")\n",
        "    print(\"-\" * 30)\n"
      ],
      "metadata": {
        "colab": {
          "base_uri": "https://localhost:8080/"
        },
        "id": "GwiTE-AU6Ckj",
        "outputId": "0e5f566e-77ce-4ae5-dc68-394e3e57d5f3"
      },
      "execution_count": 7,
      "outputs": [
        {
          "output_type": "stream",
          "name": "stdout",
          "text": [
            "Judul: Kalkulus\n",
            "Penulis: John Doe\n",
            "Tahun Terbit: 2020\n",
            "Usia Buku: 4 tahun\n",
            "------------------------------\n",
            "Judul: Kecerdasan Buatan\n",
            "Penulis: Jane Smith\n",
            "Tahun Terbit: 2018\n",
            "Usia Buku: 6 tahun\n",
            "------------------------------\n",
            "Judul: Algoritma dan Struktur Data\n",
            "Penulis: Alice Johnson\n",
            "Tahun Terbit: 2020\n",
            "Usia Buku: 4 tahun\n",
            "------------------------------\n"
          ]
        }
      ]
    },
    {
      "cell_type": "markdown",
      "source": [
        "## Nomor 10"
      ],
      "metadata": {
        "id": "Qr9fJvlt6DDS"
      }
    },
    {
      "cell_type": "code",
      "source": [
        "# Fungsi untuk pencarian biner\n",
        "def pencarian_biner_genap(arr, target):\n",
        "    # Cek apakah target adalah angka ganjil\n",
        "    if target % 2 != 0:\n",
        "        return f\"Nilai {target} adalah angka ganjil dan tidak bisa ditemukan.\"\n",
        "\n",
        "    # Inisialisasi batas awal dan akhir\n",
        "    awal = 0\n",
        "    akhir = len(arr) - 1\n",
        "\n",
        "    while awal <= akhir:\n",
        "        tengah = (awal + akhir) // 2\n",
        "\n",
        "        # Cek apakah elemen tengah adalah target\n",
        "        if arr[tengah] == target:\n",
        "            return f\"Nilai {target} ditemukan pada indeks {tengah}.\"\n",
        "        # Jika target lebih kecil, cari di sebelah kiri\n",
        "        elif arr[tengah] > target:\n",
        "            akhir = tengah - 1\n",
        "        # Jika target lebih besar, cari di sebelah kanan\n",
        "        else:\n",
        "            awal = tengah + 1\n",
        "\n",
        "    return f\"Nilai {target} tidak ditemukan.\"\n",
        "\n",
        "arr = list(map(int, input(\"Masukkan daftar angka genap (pisahkan dengan spasi): \").split()))\n",
        "arr.sort()  # List harus terurut untuk pencarian biner\n",
        "target = int(input(\"Masukkan nilai yang ingin dicari: \"))\n",
        "\n",
        "hasil = pencarian_biner_genap(arr, target)\n",
        "print(hasil)\n",
        "\n"
      ],
      "metadata": {
        "colab": {
          "base_uri": "https://localhost:8080/"
        },
        "id": "f2gscKgG6GJO",
        "outputId": "0e3961d6-28a3-4fb6-c537-4b9473301413"
      },
      "execution_count": 9,
      "outputs": [
        {
          "output_type": "stream",
          "name": "stdout",
          "text": [
            "Masukkan daftar angka genap (pisahkan dengan spasi): 2 4 6 8 10 12 14\n",
            "Masukkan nilai yang ingin dicari: 6\n",
            "Nilai 6 ditemukan pada indeks 2.\n"
          ]
        }
      ]
    }
  ]
}